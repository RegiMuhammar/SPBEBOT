{
 "cells": [
  {
   "cell_type": "code",
   "execution_count": 12,
   "metadata": {},
   "outputs": [
    {
     "name": "stdout",
     "output_type": "stream",
     "text": [
      "Note: you may need to restart the kernel to use updated packages.\n"
     ]
    }
   ],
   "source": [
    "# %pip install -qU langchain langchain-core langchain-community langchain-ollama langchain-groq python-dotenv pypdf chroma chromadb"
   ]
  },
  {
   "cell_type": "markdown",
   "metadata": {},
   "source": [
    "# Libraries"
   ]
  },
  {
   "cell_type": "code",
   "execution_count": 1,
   "metadata": {},
   "outputs": [],
   "source": [
    "import os, getpass, textwrap, time, uuid\n",
    "from dotenv import load_dotenv # type: ignore\n",
    "\n",
    "\n",
    "\n",
    "from langchain_community.callbacks import get_openai_callback # type: ignore\n",
    "from langchain_core.runnables import RunnablePassthrough # type: ignore\n",
    "from langchain_core.output_parsers import StrOutputParser # type: ignore\n",
    "\n",
    "from langchain_groq import ChatGroq # type: ignore"
   ]
  },
  {
   "cell_type": "code",
   "execution_count": 2,
   "metadata": {},
   "outputs": [
    {
     "data": {
      "text/plain": [
       "True"
      ]
     },
     "execution_count": 2,
     "metadata": {},
     "output_type": "execute_result"
    }
   ],
   "source": [
    "# Load environment variables from .env file\n",
    "load_dotenv()"
   ]
  },
  {
   "cell_type": "markdown",
   "metadata": {},
   "source": [
    "# Helper Function"
   ]
  },
  {
   "cell_type": "code",
   "execution_count": 3,
   "metadata": {},
   "outputs": [],
   "source": [
    "def pprint_docs(docs):\n",
    "    print(f\"\\n{'-' * 70}\\n\".join([f\"Document {i+1}:\\n\\n\" + \"\\n\".join(textwrap.wrap(d.page_content)) for i, d in enumerate(docs)]))\n",
    "\n",
    "def pprint_result(result):\n",
    "    print(\"Answer: \" + \"\\n\".join(textwrap.wrap(result)))"
   ]
  },
  {
   "cell_type": "markdown",
   "metadata": {},
   "source": [
    "# Load PDF File"
   ]
  },
  {
   "cell_type": "code",
   "execution_count": 1,
   "metadata": {},
   "outputs": [],
   "source": [
    "from langchain_community.document_loaders import PyPDFLoader # type: ignore\n",
    "\n",
    "# load the PDF  \n",
    "file_path = \"data/5. Pedoman Menteri PANRB NO 3 Tahun 2024 Pedoman Tata Cara Pemantauan dan Evaluasi SPBE.pdf\"\n",
    "loader = PyPDFLoader(file_path)\n",
    "\n",
    "documents = loader.load()"
   ]
  },
  {
   "cell_type": "code",
   "execution_count": 2,
   "metadata": {},
   "outputs": [
    {
     "data": {
      "text/plain": [
       "Document(metadata={'producer': 'Microsoft® Word 2019', 'creator': 'Microsoft® Word 2019', 'creationdate': '2024-07-15T14:04:57+07:00', 'author': 'Muthia N R', 'moddate': '2024-07-15T14:04:57+07:00', 'source': 'data/5. Pedoman Menteri PANRB NO 3 Tahun 2024 Pedoman Tata Cara Pemantauan dan Evaluasi SPBE.pdf', 'total_pages': 236, 'page': 1, 'page_label': '2'}, page_content='-2- \\njdih.menpan.go.id \\nUpaya untuk mendorong perkembangan keterpaduan penerapan SPBE \\npada Instansi Pusat dan Pemerintah Daerah dilakukan melalui penerapan \\nArsitektur SPBE. Arsitektur SPBE Nasional telah ditetapkan melalui Peraturan \\nPresiden Nomor 132 Tahun 2022 tentang Arsitektu r SPBE Nasional, sehingga \\npembangunan layanan digital pada Instansi Pusat dan Pemerintah Daerah \\nharus selaras dengan Arsitektur SPBE Nasional. Selain itu, pada tahun 2023 \\ntelah ditetapkan Peraturan Presiden Nomor 82 Tahun 2023 tentang Percepatan \\nTransformasi Digital dan Keterpaduan Layanan Digital Nasional, yang menjadi \\nsalah satu dasar penyesuaian pedoman dalam rangka pelaksanaan \\npemantauan dan evaluasi SPBE.  \\nDalam rangka memastikan penerapan SPBE yang menjadi peran \\npembinaan dan pengawasan oleh Tim Koordinasi SPBE Nasional, maka \\ndilakukan kegiatan pemantauan dan evaluasi SPBE. Pada tahun 2020, Menteri \\nPendayagunaan Aparatur Negara dan Reformasi Birokrasi (PANR B) Selaku \\nKetua Tim Koordinasi SPBE Nasional, telah melakukan penyempurnaan \\npedoman dan instrumen untuk mengukur tingkat kematangan (maturity level) \\npenerapan SPBE pada Instansi Pusat dan Pemerintah Daerah, melalui \\nPeraturan Menteri PANRB Nomor 59 Tahun 20 20 tentang Pemantauan dan \\nEvaluasi Sistem Pemerintahan Berbasis Elektronik. Dengan adanya Peraturan \\nMenteri sebagaimana dimaksud, diharapkan penerapan SPBE pada Instansi \\nPusat dan Pemerintah Daerah dapat selaras dengan prinsip -prinsip Perpres \\nSPBE.  \\nPeraturan Menteri PANRB Nomor 59 Tahun 2020 mengatur mengenai \\ntahap perencanaan, pelaksanaan, dan pelaporan atas pemantauan dan \\nevaluasi penerapan SPBE yang telah dilakukan. Selain itu, Peraturan Menteri \\ntersebut juga mengatur ruang lingkup pemantauan dan evaluasi SPBE yang \\nmencakup domain kebijakan SPBE, tata kelola SPBE, manajemen SPBE, dan \\nlayanan SPBE yang dapat menggambarkan hasil penyelenggaraan SPBE baik \\npada Instansi Pusat maupun Pemerintah Daerah. \\nHasil pelaksanaan pemantauan dan evaluasi SPBE diharapkan menjadi \\ntolok ukur bagi Instansi Pusat dan Pemerintah Daerah untuk melakukan \\nperbaikan pada aspek domain SPBE dimaksud, yang direpresentasikan \\nberdasarkan nilai indeks SPBE. Tabel 1 di bawah ini men ggambarkan \\nperkembangan rata-rata capaian Indeks SPBE nasional dari tahun 2021-2023, \\nyakni sejak dilaksanakannya Peraturan Menteri PANRB No. 59 Tahun 2020, \\nsebagaimana tergambar dalam tabel di bawah ini.')"
      ]
     },
     "execution_count": 2,
     "metadata": {},
     "output_type": "execute_result"
    }
   ],
   "source": [
    "documents[1]"
   ]
  },
  {
   "cell_type": "markdown",
   "metadata": {},
   "source": [
    "# Chunking the SPBE with Parent Document Retriever"
   ]
  },
  {
   "cell_type": "code",
   "execution_count": 3,
   "metadata": {},
   "outputs": [],
   "source": [
    "from langchain_text_splitters import RecursiveCharacterTextSplitter # type: ignore\n",
    "\n",
    "# Create a splitter for the parent documents\n",
    "text_parent = RecursiveCharacterTextSplitter(chunk_size = 2000)\n",
    "\n",
    "# Create a splitter for the child documents\n",
    "# Note: child documents should be smaller than parent documents\n",
    "text_child = RecursiveCharacterTextSplitter(chunk_size = 400)"
   ]
  },
  {
   "cell_type": "markdown",
   "metadata": {},
   "source": [
    "# Load Embedding Model"
   ]
  },
  {
   "cell_type": "code",
   "execution_count": 4,
   "metadata": {},
   "outputs": [],
   "source": [
    "from langchain_ollama import OllamaEmbeddings # type: ignore\n",
    "\n",
    "# load embedding model\n",
    "embeddings = OllamaEmbeddings(\n",
    "    model=\"nomic-embed-text:latest\",\n",
    ")"
   ]
  },
  {
   "cell_type": "markdown",
   "metadata": {},
   "source": [
    "# Load Chroma as Vectorstore"
   ]
  },
  {
   "cell_type": "code",
   "execution_count": 5,
   "metadata": {},
   "outputs": [
    {
     "name": "stderr",
     "output_type": "stream",
     "text": [
      "C:\\Users\\regim\\AppData\\Local\\Temp\\ipykernel_21736\\1118463972.py:4: LangChainDeprecationWarning: The class `Chroma` was deprecated in LangChain 0.2.9 and will be removed in 1.0. An updated version of the class exists in the :class:`~langchain-chroma package and should be used instead. To use it run `pip install -U :class:`~langchain-chroma` and import as `from :class:`~langchain_chroma import Chroma``.\n",
      "  parent_vstore = Chroma(\n"
     ]
    }
   ],
   "source": [
    "# Initialize a vector store to storing the chunks\n",
    "from langchain.vectorstores import Chroma # type: ignore\n",
    "\n",
    "parent_vstore = Chroma(\n",
    "    collection_name=\"spbe_parent_chunk\",\n",
    "    embedding_function=embeddings,\n",
    "    persist_directory =\"./chroma_spbe_parent_db\"\n",
    ")\n",
    "\n",
    "# initialize in-memory storage for the parent chunks\n",
    "from langchain.storage import InMemoryStore # type: ignore\n",
    "store_parent = InMemoryStore()"
   ]
  },
  {
   "cell_type": "markdown",
   "metadata": {},
   "source": [
    "# Parent Document Retriever"
   ]
  },
  {
   "cell_type": "code",
   "execution_count": 6,
   "metadata": {},
   "outputs": [],
   "source": [
    "# Create a parent document retriever\n",
    "from langchain.retrievers import ParentDocumentRetriever # type: ignore\n",
    "\n",
    "parent_retriever = ParentDocumentRetriever(\n",
    "    vectorstore=parent_vstore,\n",
    "    docstore=store_parent, \n",
    "    child_splitter=text_child,\n",
    "    parent_splitter=text_parent,\n",
    "    search_type=\"mmr\",\n",
    "    search_kwargs={\"k\": 2, \"score_threshold\": 0.8}\n",
    ")\n",
    "\n",
    "# add documents to vectorstore\n",
    "parent_retriever.add_documents(documents)"
   ]
  },
  {
   "cell_type": "code",
   "execution_count": 15,
   "metadata": {},
   "outputs": [
    {
     "name": "stdout",
     "output_type": "stream",
     "text": [
      "Jumlah dokumen dalam ChromaDB: 4004\n"
     ]
    }
   ],
   "source": [
    "# Cek jumlah dokumen yang tersimpan\n",
    "print(f\"Jumlah dokumen dalam ChromaDB: {parent_vstore._collection.count()}\")"
   ]
  },
  {
   "cell_type": "markdown",
   "metadata": {},
   "source": [
    "# 4. Load LLM"
   ]
  },
  {
   "cell_type": "code",
   "execution_count": 16,
   "metadata": {},
   "outputs": [],
   "source": [
    "# Load environment variables from .env file\n",
    "load_dotenv()\n",
    "\n",
    "# Verify API key is loaded\n",
    "if not os.getenv(\"GROQ_API_KEY\"):\n",
    "    raise ValueError(\"GROQ_API_KEY not found in .env file\")\n",
    "\n",
    "\n",
    "model = ChatGroq(\n",
    "    model_name=\"llama-3.3-70b-versatile\",\n",
    "    temperature=0,\n",
    "    groq_api_key=os.getenv(\"GROQ_API_KEY\"),\n",
    ")"
   ]
  },
  {
   "cell_type": "markdown",
   "metadata": {},
   "source": [
    "# 5. Prompt Template"
   ]
  },
  {
   "cell_type": "code",
   "execution_count": 17,
   "metadata": {},
   "outputs": [
    {
     "name": "stdout",
     "output_type": "stream",
     "text": [
      "Initializing prompt template...\n",
      "Creating ChatPromptTemplate from template...\n",
      "ChatPromptTemplate initialized successfully.\n"
     ]
    }
   ],
   "source": [
    "from langchain_core.prompts import ChatPromptTemplate # type: ignore\n",
    "# Log: Initializing prompt template\n",
    "print(\"Initializing prompt template...\")\n",
    "\n",
    "prompt_template_naive = \"\"\"\n",
    "Anda adalah asisten asesor SPBE yang detail, khususnya dalam memberikan informasi dan membantu auditing Sistem Pemerintahan Berbasis Elektronik (SPBE) Indonesia.\n",
    "\n",
    "## 🎯 Tugas Anda:\n",
    "1️⃣ Menjawab pertanyaan umum tentang SPBE secara akurat.  \n",
    "2️⃣ Menunjukkan domain, aspek, dan indikator juga level terkait dengan pertanyaan pengguna berdasarkan pedoman SPBE.\n",
    "\n",
    "## 📢 Tanggapan Anda harus mengikuti aturan berikut:\n",
    "- Jika pengguna bertanya tentang suatu domain, tampilkan nomor doman, aspek, dan indikator yang relevan, lalu tampilkan isi level tersebut.  \n",
    "- Jika pengguna hanya ingin ringkasan, berikan jawaban singkat. Jika mereka ingin detail, berikan isi pasal lengkap.   \n",
    "- Jika pertanyaan tidak tercakup dalam Pedoman SPBE, berikan respons berikut:\n",
    "  - *\"Maaf, pertanyaan tersebut tidak tercakup dalam Pedoman SPBE KemenpanRB. Saya hanya dapat memberikan jawaban berdasarkan pedoman tersebut.\"\n",
    "---\n",
    "\n",
    "## 🔍 Konteks yang diberikan:\n",
    "{context}\n",
    "\n",
    "## ❓ Pertanyaan pengguna:\n",
    "{question}\n",
    "\n",
    "## ✅ Jawaban Anda:\n",
    "\"\"\"\n",
    "\n",
    "# Log: Creating ChatPromptTemplate from template\n",
    "print(\"Creating ChatPromptTemplate from template...\")\n",
    "\n",
    "prompt = ChatPromptTemplate.from_template(prompt_template_naive)\n",
    "\n",
    "# Log: ChatPromptTemplate initialized successfully\n",
    "print(\"ChatPromptTemplate initialized successfully.\")"
   ]
  },
  {
   "cell_type": "code",
   "execution_count": 18,
   "metadata": {},
   "outputs": [],
   "source": [
    "questions = [\n",
    "    'jika \"Rencana dan Anggaran SPBE instansi pusat/pemerintah daerah telah terpadu dan dapat dikendalinkan oleh unit kerja/perangkat daerah yang menjalankan fungsi perencanaan dan penganggaran dan telah direviu serta dievaluasi secara periodik.\" maka dapat diberikan level...'\n",
    "]"
   ]
  },
  {
   "cell_type": "markdown",
   "metadata": {},
   "source": [
    "# Function Invoke"
   ]
  },
  {
   "cell_type": "code",
   "execution_count": 19,
   "metadata": {},
   "outputs": [],
   "source": [
    "def do_retrieval(chain):\n",
    "    for i in range(len(questions)):\n",
    "        print(\"-\" * 40)\n",
    "        print(f\"Pertanyaan: {questions[i]}\\n\")\n",
    "        with get_openai_callback() as cb:\n",
    "            pprint_result(chain.invoke(questions[i]))\n",
    "            print(f'\\nTotal Tokens: {cb.total_tokens}\\n')"
   ]
  },
  {
   "cell_type": "code",
   "execution_count": 20,
   "metadata": {},
   "outputs": [],
   "source": [
    "parent_chain = (\n",
    "    {\"context\": parent_retriever, \"question\": RunnablePassthrough()}\n",
    "    | prompt\n",
    "    | model\n",
    "    | StrOutputParser()\n",
    ")"
   ]
  },
  {
   "cell_type": "code",
   "execution_count": 21,
   "metadata": {},
   "outputs": [
    {
     "name": "stdout",
     "output_type": "stream",
     "text": [
      "----------------------------------------\n",
      "Pertanyaan: jika \"Rencana dan Anggaran SPBE instansi pusat/pemerintah daerah telah terpadu dan dapat dikendalinkan oleh unit kerja/perangkat daerah yang menjalankan fungsi perencanaan dan penganggaran dan telah direviu serta dievaluasi secara periodik.\" maka dapat diberikan level...\n",
      "\n",
      "Answer: Berdasarkan Pedoman SPBE, pernyataan tersebut terkait dengan Domain 1:\n",
      "Perencanaan dan Penganggaran, Aspek 1.2: Perencanaan dan Penganggaran\n",
      "SPBE, dan Indikator 1.2.2: Rencana dan Anggaran SPBE terpadu dan\n",
      "terkendali.  Level yang dapat diberikan untuk pernyataan tersebut\n",
      "adalah Level 4, karena telah memenuhi kriteria sebagai berikut: -\n",
      "Rencana dan Anggaran SPBE telah terpadu dan dapat dikendalikan oleh\n",
      "unit kerja/perangkat daerah yang menjalankan fungsi perencanaan dan\n",
      "penganggaran. - Rencana dan Anggaran SPBE telah direviu serta\n",
      "dievaluasi secara periodik.  Isi Level 4 adalah: \"Rencana dan Anggaran\n",
      "SPBE telah terpadu dan dapat dikendalikan oleh unit kerja/perangkat\n",
      "daerah yang menjalankan fungsi perencanaan dan penganggaran dan telah\n",
      "direviu serta dievaluasi secara periodik.\"\n",
      "\n",
      "Total Tokens: 634\n",
      "\n"
     ]
    }
   ],
   "source": [
    "do_retrieval(parent_chain)"
   ]
  },
  {
   "cell_type": "code",
   "execution_count": 22,
   "metadata": {},
   "outputs": [
    {
     "name": "stdout",
     "output_type": "stream",
     "text": [
      "\n"
     ]
    }
   ],
   "source": [
    "pprint_docs(parent_retriever.invoke(questions[0]))"
   ]
  }
 ],
 "metadata": {
  "kernelspec": {
   "display_name": "envspbe",
   "language": "python",
   "name": "python3"
  },
  "language_info": {
   "codemirror_mode": {
    "name": "ipython",
    "version": 3
   },
   "file_extension": ".py",
   "mimetype": "text/x-python",
   "name": "python",
   "nbconvert_exporter": "python",
   "pygments_lexer": "ipython3",
   "version": "3.11.0"
  }
 },
 "nbformat": 4,
 "nbformat_minor": 2
}
